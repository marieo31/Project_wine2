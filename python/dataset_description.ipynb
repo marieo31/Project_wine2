{
 "cells": [
  {
   "cell_type": "code",
   "execution_count": 1,
   "metadata": {},
   "outputs": [],
   "source": [
    "import pandas as pd\n",
    "import numpy as np\n",
    "import json\n",
    "from scipy import stats"
   ]
  },
  {
   "cell_type": "code",
   "execution_count": 2,
   "metadata": {},
   "outputs": [],
   "source": [
    "datasets = [{\"filepath\": r\"../Resources_cleaned/winemag_full.json\",\n",
    "           \"name\": \"full\"},\n",
    "            {\"filepath\": r\"../Resources_cleaned/winemag_23000.json\",\n",
    "           \"name\": \"23k\"},\n",
    "          {\"filepath\": r\"../Resources_cleaned/winemag_5000.json\",\n",
    "          \"name\": \"5k\"},\n",
    "           ]\n"
   ]
  },
  {
   "cell_type": "code",
   "execution_count": 22,
   "metadata": {},
   "outputs": [],
   "source": [
    "df_list = []\n",
    "for dd in datasets:\n",
    "    df = pd.read_json(dd[\"filepath\"])\n",
    "    nb_rows = df.shape[0]\n",
    "    df_temp = df.groupby(\"country\")['points'].count()/nb_rows\n",
    "    df_temp = df_temp.rename(dd[\"name\"])\n",
    "    df_list.append(df_temp)\n",
    "#     print(df.shape[0])\n",
    "#     # groupby country and extract the nb of row per country\n",
    "#     print(df[\"country\"].unique())\n",
    "    \n"
   ]
  },
  {
   "cell_type": "code",
   "execution_count": 34,
   "metadata": {},
   "outputs": [
    {
     "data": {
      "text/html": [
       "<div>\n",
       "<style scoped>\n",
       "    .dataframe tbody tr th:only-of-type {\n",
       "        vertical-align: middle;\n",
       "    }\n",
       "\n",
       "    .dataframe tbody tr th {\n",
       "        vertical-align: top;\n",
       "    }\n",
       "\n",
       "    .dataframe thead th {\n",
       "        text-align: right;\n",
       "    }\n",
       "</style>\n",
       "<table border=\"1\" class=\"dataframe\">\n",
       "  <thead>\n",
       "    <tr style=\"text-align: right;\">\n",
       "      <th></th>\n",
       "      <th>full</th>\n",
       "      <th>23k</th>\n",
       "      <th>5k</th>\n",
       "    </tr>\n",
       "  </thead>\n",
       "  <tbody>\n",
       "    <tr>\n",
       "      <th>Argentina</th>\n",
       "      <td>0.035009</td>\n",
       "      <td>0.046851</td>\n",
       "      <td>0.046875</td>\n",
       "    </tr>\n",
       "    <tr>\n",
       "      <th>Australia</th>\n",
       "      <td>0.021382</td>\n",
       "      <td>0.064796</td>\n",
       "      <td>0.064844</td>\n",
       "    </tr>\n",
       "    <tr>\n",
       "      <th>Chile</th>\n",
       "      <td>0.041160</td>\n",
       "      <td>0.050364</td>\n",
       "      <td>0.050391</td>\n",
       "    </tr>\n",
       "    <tr>\n",
       "      <th>China</th>\n",
       "      <td>0.000009</td>\n",
       "      <td>0.000000</td>\n",
       "      <td>0.000000</td>\n",
       "    </tr>\n",
       "    <tr>\n",
       "      <th>France</th>\n",
       "      <td>0.165685</td>\n",
       "      <td>0.216861</td>\n",
       "      <td>0.216797</td>\n",
       "    </tr>\n",
       "    <tr>\n",
       "      <th>Italy</th>\n",
       "      <td>0.157650</td>\n",
       "      <td>0.253724</td>\n",
       "      <td>0.253711</td>\n",
       "    </tr>\n",
       "    <tr>\n",
       "      <th>South Africa</th>\n",
       "      <td>0.012052</td>\n",
       "      <td>0.052353</td>\n",
       "      <td>0.052344</td>\n",
       "    </tr>\n",
       "    <tr>\n",
       "      <th>Spain</th>\n",
       "      <td>0.061265</td>\n",
       "      <td>0.195912</td>\n",
       "      <td>0.195898</td>\n",
       "    </tr>\n",
       "    <tr>\n",
       "      <th>US</th>\n",
       "      <td>0.505788</td>\n",
       "      <td>0.119138</td>\n",
       "      <td>0.119141</td>\n",
       "    </tr>\n",
       "  </tbody>\n",
       "</table>\n",
       "</div>"
      ],
      "text/plain": [
       "                  full       23k        5k\n",
       "Argentina     0.035009  0.046851  0.046875\n",
       "Australia     0.021382  0.064796  0.064844\n",
       "Chile         0.041160  0.050364  0.050391\n",
       "China         0.000009  0.000000  0.000000\n",
       "France        0.165685  0.216861  0.216797\n",
       "Italy         0.157650  0.253724  0.253711\n",
       "South Africa  0.012052  0.052353  0.052344\n",
       "Spain         0.061265  0.195912  0.195898\n",
       "US            0.505788  0.119138  0.119141"
      ]
     },
     "execution_count": 34,
     "metadata": {},
     "output_type": "execute_result"
    }
   ],
   "source": [
    "df_list\n",
    "merged_dt = pd.concat(df_list, axis=1, sort=False)\n",
    "# pd.concat([s1, s2], axis=1)\n",
    "merged_dt = merged_dt.fillna(0)\n",
    "merged_dt"
   ]
  },
  {
   "cell_type": "code",
   "execution_count": 35,
   "metadata": {},
   "outputs": [
    {
     "data": {
      "text/html": [
       "<div>\n",
       "<style scoped>\n",
       "    .dataframe tbody tr th:only-of-type {\n",
       "        vertical-align: middle;\n",
       "    }\n",
       "\n",
       "    .dataframe tbody tr th {\n",
       "        vertical-align: top;\n",
       "    }\n",
       "\n",
       "    .dataframe thead th {\n",
       "        text-align: right;\n",
       "    }\n",
       "</style>\n",
       "<table border=\"1\" class=\"dataframe\">\n",
       "  <thead>\n",
       "    <tr style=\"text-align: right;\">\n",
       "      <th></th>\n",
       "      <th>production</th>\n",
       "    </tr>\n",
       "    <tr>\n",
       "      <th>Country</th>\n",
       "      <th></th>\n",
       "    </tr>\n",
       "  </thead>\n",
       "  <tbody>\n",
       "    <tr>\n",
       "      <th>Italy</th>\n",
       "      <td>0.199843</td>\n",
       "    </tr>\n",
       "    <tr>\n",
       "      <th>France</th>\n",
       "      <td>0.170789</td>\n",
       "    </tr>\n",
       "    <tr>\n",
       "      <th>Spain</th>\n",
       "      <td>0.154299</td>\n",
       "    </tr>\n",
       "    <tr>\n",
       "      <th>US</th>\n",
       "      <td>0.093836</td>\n",
       "    </tr>\n",
       "    <tr>\n",
       "      <th>Australia</th>\n",
       "      <td>0.051040</td>\n",
       "    </tr>\n",
       "    <tr>\n",
       "      <th>China</th>\n",
       "      <td>0.044759</td>\n",
       "    </tr>\n",
       "    <tr>\n",
       "      <th>South Africa</th>\n",
       "      <td>0.041225</td>\n",
       "    </tr>\n",
       "    <tr>\n",
       "      <th>Chile</th>\n",
       "      <td>0.039654</td>\n",
       "    </tr>\n",
       "    <tr>\n",
       "      <th>Argentina</th>\n",
       "      <td>0.036906</td>\n",
       "    </tr>\n",
       "  </tbody>\n",
       "</table>\n",
       "</div>"
      ],
      "text/plain": [
       "              production\n",
       "Country                 \n",
       "Italy           0.199843\n",
       "France          0.170789\n",
       "Spain           0.154299\n",
       "US              0.093836\n",
       "Australia       0.051040\n",
       "China           0.044759\n",
       "South Africa    0.041225\n",
       "Chile           0.039654\n",
       "Argentina       0.036906"
      ]
     },
     "execution_count": 35,
     "metadata": {},
     "output_type": "execute_result"
    }
   ],
   "source": [
    "# Sample the database based on the wine production on 2016\n",
    "# loading the data\n",
    "prod_file = r\"../Resources_raw/wine_production_by_country_2016.csv\"\n",
    "df_prod = pd.read_csv(prod_file,\n",
    "                      encoding=\"utf-8\",\n",
    "                      header=None,\n",
    "                     names=[\"Country\",\"Year\",\"production\"])\n",
    "df_prod = df_prod.drop([\"Year\"], axis=1)\n",
    "# calculating the total production this year\n",
    "total_production = df_prod[\"production\"].sum()\n",
    "total_production\n",
    "# Normalize the production\n",
    "df_prod[\"production\"] = df_prod[\"production\"]/total_production\n",
    "# Replace United State by US to match the main dataset labels\n",
    "df_prod['Country'] = df_prod['Country'].str.replace(\"United States\", \"US\")\n",
    "\n",
    "# We will select only the 10 bigest countries\n",
    "df_prod2 = df_prod[0:9]\n",
    "# China has only one wine reviewed in the dataset so we just remove it\n",
    "# df_prod2 = df_prod2.drop(5) \n",
    "# df_prod2\n",
    "\n",
    "df_prod2 = df_prod2.set_index('Country')\n",
    "df_prod2"
   ]
  },
  {
   "cell_type": "code",
   "execution_count": 36,
   "metadata": {},
   "outputs": [
    {
     "data": {
      "text/html": [
       "<div>\n",
       "<style scoped>\n",
       "    .dataframe tbody tr th:only-of-type {\n",
       "        vertical-align: middle;\n",
       "    }\n",
       "\n",
       "    .dataframe tbody tr th {\n",
       "        vertical-align: top;\n",
       "    }\n",
       "\n",
       "    .dataframe thead th {\n",
       "        text-align: right;\n",
       "    }\n",
       "</style>\n",
       "<table border=\"1\" class=\"dataframe\">\n",
       "  <thead>\n",
       "    <tr style=\"text-align: right;\">\n",
       "      <th></th>\n",
       "      <th>production</th>\n",
       "      <th>full</th>\n",
       "      <th>23k</th>\n",
       "      <th>5k</th>\n",
       "    </tr>\n",
       "  </thead>\n",
       "  <tbody>\n",
       "    <tr>\n",
       "      <th>Italy</th>\n",
       "      <td>0.199843</td>\n",
       "      <td>0.157650</td>\n",
       "      <td>0.253724</td>\n",
       "      <td>0.253711</td>\n",
       "    </tr>\n",
       "    <tr>\n",
       "      <th>France</th>\n",
       "      <td>0.170789</td>\n",
       "      <td>0.165685</td>\n",
       "      <td>0.216861</td>\n",
       "      <td>0.216797</td>\n",
       "    </tr>\n",
       "    <tr>\n",
       "      <th>Spain</th>\n",
       "      <td>0.154299</td>\n",
       "      <td>0.061265</td>\n",
       "      <td>0.195912</td>\n",
       "      <td>0.195898</td>\n",
       "    </tr>\n",
       "    <tr>\n",
       "      <th>US</th>\n",
       "      <td>0.093836</td>\n",
       "      <td>0.505788</td>\n",
       "      <td>0.119138</td>\n",
       "      <td>0.119141</td>\n",
       "    </tr>\n",
       "    <tr>\n",
       "      <th>Australia</th>\n",
       "      <td>0.051040</td>\n",
       "      <td>0.021382</td>\n",
       "      <td>0.064796</td>\n",
       "      <td>0.064844</td>\n",
       "    </tr>\n",
       "    <tr>\n",
       "      <th>China</th>\n",
       "      <td>0.044759</td>\n",
       "      <td>0.000009</td>\n",
       "      <td>0.000000</td>\n",
       "      <td>0.000000</td>\n",
       "    </tr>\n",
       "    <tr>\n",
       "      <th>South Africa</th>\n",
       "      <td>0.041225</td>\n",
       "      <td>0.012052</td>\n",
       "      <td>0.052353</td>\n",
       "      <td>0.052344</td>\n",
       "    </tr>\n",
       "    <tr>\n",
       "      <th>Chile</th>\n",
       "      <td>0.039654</td>\n",
       "      <td>0.041160</td>\n",
       "      <td>0.050364</td>\n",
       "      <td>0.050391</td>\n",
       "    </tr>\n",
       "    <tr>\n",
       "      <th>Argentina</th>\n",
       "      <td>0.036906</td>\n",
       "      <td>0.035009</td>\n",
       "      <td>0.046851</td>\n",
       "      <td>0.046875</td>\n",
       "    </tr>\n",
       "  </tbody>\n",
       "</table>\n",
       "</div>"
      ],
      "text/plain": [
       "              production      full       23k        5k\n",
       "Italy           0.199843  0.157650  0.253724  0.253711\n",
       "France          0.170789  0.165685  0.216861  0.216797\n",
       "Spain           0.154299  0.061265  0.195912  0.195898\n",
       "US              0.093836  0.505788  0.119138  0.119141\n",
       "Australia       0.051040  0.021382  0.064796  0.064844\n",
       "China           0.044759  0.000009  0.000000  0.000000\n",
       "South Africa    0.041225  0.012052  0.052353  0.052344\n",
       "Chile           0.039654  0.041160  0.050364  0.050391\n",
       "Argentina       0.036906  0.035009  0.046851  0.046875"
      ]
     },
     "execution_count": 36,
     "metadata": {},
     "output_type": "execute_result"
    }
   ],
   "source": [
    "merged_dt2 = pd.concat([df_prod2[\"production\"],merged_dt], axis=1, sort=False)\n",
    "merged_dt2"
   ]
  },
  {
   "cell_type": "code",
   "execution_count": 42,
   "metadata": {},
   "outputs": [
    {
     "data": {
      "text/html": [
       "<div>\n",
       "<style scoped>\n",
       "    .dataframe tbody tr th:only-of-type {\n",
       "        vertical-align: middle;\n",
       "    }\n",
       "\n",
       "    .dataframe tbody tr th {\n",
       "        vertical-align: top;\n",
       "    }\n",
       "\n",
       "    .dataframe thead th {\n",
       "        text-align: right;\n",
       "    }\n",
       "</style>\n",
       "<table border=\"1\" class=\"dataframe\">\n",
       "  <thead>\n",
       "    <tr style=\"text-align: right;\">\n",
       "      <th></th>\n",
       "      <th>production</th>\n",
       "      <th>full</th>\n",
       "      <th>23k</th>\n",
       "      <th>5k</th>\n",
       "      <th>Country</th>\n",
       "    </tr>\n",
       "  </thead>\n",
       "  <tbody>\n",
       "    <tr>\n",
       "      <th>Italy</th>\n",
       "      <td>0.199843</td>\n",
       "      <td>0.157650</td>\n",
       "      <td>0.253724</td>\n",
       "      <td>0.253711</td>\n",
       "      <td>Italy</td>\n",
       "    </tr>\n",
       "    <tr>\n",
       "      <th>France</th>\n",
       "      <td>0.170789</td>\n",
       "      <td>0.165685</td>\n",
       "      <td>0.216861</td>\n",
       "      <td>0.216797</td>\n",
       "      <td>France</td>\n",
       "    </tr>\n",
       "    <tr>\n",
       "      <th>Spain</th>\n",
       "      <td>0.154299</td>\n",
       "      <td>0.061265</td>\n",
       "      <td>0.195912</td>\n",
       "      <td>0.195898</td>\n",
       "      <td>Spain</td>\n",
       "    </tr>\n",
       "    <tr>\n",
       "      <th>US</th>\n",
       "      <td>0.093836</td>\n",
       "      <td>0.505788</td>\n",
       "      <td>0.119138</td>\n",
       "      <td>0.119141</td>\n",
       "      <td>US</td>\n",
       "    </tr>\n",
       "    <tr>\n",
       "      <th>Australia</th>\n",
       "      <td>0.051040</td>\n",
       "      <td>0.021382</td>\n",
       "      <td>0.064796</td>\n",
       "      <td>0.064844</td>\n",
       "      <td>Australia</td>\n",
       "    </tr>\n",
       "    <tr>\n",
       "      <th>China</th>\n",
       "      <td>0.044759</td>\n",
       "      <td>0.000009</td>\n",
       "      <td>0.000000</td>\n",
       "      <td>0.000000</td>\n",
       "      <td>China</td>\n",
       "    </tr>\n",
       "    <tr>\n",
       "      <th>South Africa</th>\n",
       "      <td>0.041225</td>\n",
       "      <td>0.012052</td>\n",
       "      <td>0.052353</td>\n",
       "      <td>0.052344</td>\n",
       "      <td>South Africa</td>\n",
       "    </tr>\n",
       "    <tr>\n",
       "      <th>Chile</th>\n",
       "      <td>0.039654</td>\n",
       "      <td>0.041160</td>\n",
       "      <td>0.050364</td>\n",
       "      <td>0.050391</td>\n",
       "      <td>Chile</td>\n",
       "    </tr>\n",
       "    <tr>\n",
       "      <th>Argentina</th>\n",
       "      <td>0.036906</td>\n",
       "      <td>0.035009</td>\n",
       "      <td>0.046851</td>\n",
       "      <td>0.046875</td>\n",
       "      <td>Argentina</td>\n",
       "    </tr>\n",
       "  </tbody>\n",
       "</table>\n",
       "</div>"
      ],
      "text/plain": [
       "              production      full       23k        5k       Country\n",
       "Italy           0.199843  0.157650  0.253724  0.253711         Italy\n",
       "France          0.170789  0.165685  0.216861  0.216797        France\n",
       "Spain           0.154299  0.061265  0.195912  0.195898         Spain\n",
       "US              0.093836  0.505788  0.119138  0.119141            US\n",
       "Australia       0.051040  0.021382  0.064796  0.064844     Australia\n",
       "China           0.044759  0.000009  0.000000  0.000000         China\n",
       "South Africa    0.041225  0.012052  0.052353  0.052344  South Africa\n",
       "Chile           0.039654  0.041160  0.050364  0.050391         Chile\n",
       "Argentina       0.036906  0.035009  0.046851  0.046875     Argentina"
      ]
     },
     "execution_count": 42,
     "metadata": {},
     "output_type": "execute_result"
    }
   ],
   "source": [
    "\n",
    "merged_dt2['Country'] = merged_dt2.index\n",
    "merged_dt2"
   ]
  },
  {
   "cell_type": "code",
   "execution_count": 43,
   "metadata": {},
   "outputs": [],
   "source": [
    "merged_dt2.to_json(\"../Resources_cleaned/datasets_vs_production.json\",orient='records')"
   ]
  },
  {
   "cell_type": "code",
   "execution_count": 140,
   "metadata": {},
   "outputs": [
    {
     "name": "stdout",
     "output_type": "stream",
     "text": [
      "4\n",
      "3300\n",
      "4\n",
      "3300\n",
      "4\n",
      "850\n"
     ]
    }
   ],
   "source": [
    "## Lets try to extract also the distributions in price and score of the different datasets\n",
    "\n",
    "full_distrib = []\n",
    "for dd in datasets:\n",
    "    df = pd.read_json(dd['filepath'])\n",
    "    print(min(df['price']))\n",
    "    print(max(df['price']))\n",
    "    nb_bins = max(df['price']) - min(df['price'])\n",
    "    distrib_price = (df['price']\n",
    "     .pipe(lambda s: pd.Series(np.histogram(s, range=(4, 300), bins=296)))\n",
    "     .pipe(lambda s: pd.Series(s[0], index=s[1][:-1]))\n",
    "     .pipe(lambda s: s/len(df))\n",
    "                    )\n",
    "    # There are a lot of gaps in the price data --> we remove the 0 values\n",
    "#     distrib_price = distrib_price[distrib_price!=0]\n",
    "\n",
    "    distrib_points = (\n",
    "        df[\"points\"]\n",
    "     .pipe(lambda s: pd.Series(np.histogram(s, range=(80,101), bins=21)))\n",
    "     .pipe(lambda s: pd.Series(s[0], index=s[1][:-1]))\n",
    "     .pipe(lambda s: s/len(df))\n",
    "    )\n",
    "\n",
    "\n",
    "    full_distrib.append({\"dataset\": dd['name'],\n",
    "                    \"prices\":  distrib_price.index.tolist(),\n",
    "                    \"prices_dist\": distrib_price.tolist(),\n",
    "                    \"points\": distrib_points.index.tolist(),\n",
    "                    \"points_dist\": distrib_points.tolist()})\n",
    "# price = distrib_price.index.tolist()\n",
    "# price_dist = distrib_price.tolist()\n",
    "# points = distrib_points.index.tolist()\n",
    "# points_dist = distrib_points.tolist()\n",
    "\n",
    "# len(df)\n",
    "# [0:len(distrib[0])]\n",
    "# distrib[0]\n",
    "# distrib[1]\n",
    "# df_dist = distrib.to_frame().reset_index()\n",
    "# df_dist = df_dist.rename(columns={ df_dist.columns[0]: \"price\",\n",
    "#                                     df_dist.columns[1]: \"price_dist\"})\n",
    "# df_dist = df_dist.loc[~(df_dist[\"price_dist\"]==0)]\n",
    "\n"
   ]
  },
  {
   "cell_type": "code",
   "execution_count": 141,
   "metadata": {},
   "outputs": [],
   "source": [
    "# dist_file = \n",
    "# df_dist.to_json(orient='split')\n",
    "json.dumps(full_distrib)\n",
    "with open('data.json', 'w') as outfile:\n",
    "    json.dump(full_distrib, outfile)\n"
   ]
  },
  {
   "cell_type": "code",
   "execution_count": null,
   "metadata": {},
   "outputs": [],
   "source": [
    "# Calculating p-values\n",
    "df_full = pd.read_json(datasets[0]['filepath'])\n",
    "df_23k = pd.read_json(datasets[1]['filepath'])\n",
    "df_5k = pd.read_json(datasets[2]['filepath'])\n"
   ]
  },
  {
   "cell_type": "code",
   "execution_count": 11,
   "metadata": {},
   "outputs": [],
   "source": [
    "\n",
    "df_1k = pd.read_json(r\"../Resources_cleaned/winemag_1000.json\")"
   ]
  },
  {
   "cell_type": "code",
   "execution_count": 4,
   "metadata": {},
   "outputs": [
    {
     "name": "stdout",
     "output_type": "stream",
     "text": [
      "Ttest_indResult(statistic=-0.2073928543933279, pvalue=0.835704531735038)\n"
     ]
    }
   ],
   "source": [
    "print(stats.ttest_ind(df_23k[\"price\"], df_5k[\"price\"] ))"
   ]
  },
  {
   "cell_type": "code",
   "execution_count": 5,
   "metadata": {},
   "outputs": [
    {
     "name": "stdout",
     "output_type": "stream",
     "text": [
      "Ttest_indResult(statistic=5.454993029251544, pvalue=4.9063139509970316e-08)\n"
     ]
    }
   ],
   "source": [
    "print(stats.ttest_ind(df_full[\"price\"], df_23k[\"price\"] ))"
   ]
  },
  {
   "cell_type": "code",
   "execution_count": 6,
   "metadata": {},
   "outputs": [
    {
     "name": "stdout",
     "output_type": "stream",
     "text": [
      "Ttest_indResult(statistic=2.603820952833613, pvalue=0.009220302287140516)\n"
     ]
    }
   ],
   "source": [
    "print(stats.ttest_ind(df_full[\"price\"], df_5k[\"price\"] ))"
   ]
  },
  {
   "cell_type": "code",
   "execution_count": 12,
   "metadata": {},
   "outputs": [
    {
     "name": "stdout",
     "output_type": "stream",
     "text": [
      "Ttest_indResult(statistic=-1.0926521057529193, pvalue=0.27455728846187133)\n"
     ]
    }
   ],
   "source": [
    "print(stats.ttest_ind(df_1k[\"price\"], df_23k[\"price\"] ))"
   ]
  },
  {
   "cell_type": "code",
   "execution_count": 13,
   "metadata": {},
   "outputs": [
    {
     "name": "stdout",
     "output_type": "stream",
     "text": [
      "Ttest_indResult(statistic=11.801812545569016, pvalue=3.9661028243475246e-32)\n"
     ]
    }
   ],
   "source": [
    "print(stats.ttest_ind(df_full[\"points\"], df_23k[\"points\"] ))"
   ]
  },
  {
   "cell_type": "code",
   "execution_count": 14,
   "metadata": {},
   "outputs": [
    {
     "name": "stdout",
     "output_type": "stream",
     "text": [
      "Ttest_indResult(statistic=-0.7854047576036615, pvalue=0.4322238652494438)\n"
     ]
    }
   ],
   "source": [
    "print(stats.ttest_ind(df_1k[\"points\"], df_23k[\"points\"] ))"
   ]
  },
  {
   "cell_type": "code",
   "execution_count": 15,
   "metadata": {},
   "outputs": [
    {
     "name": "stdout",
     "output_type": "stream",
     "text": [
      "Ttest_indResult(statistic=1.3880451125069082, pvalue=0.1651340658482057)\n"
     ]
    }
   ],
   "source": [
    "print(stats.ttest_ind(df_5k[\"points\"], df_23k[\"points\"] ))"
   ]
  },
  {
   "cell_type": "code",
   "execution_count": null,
   "metadata": {},
   "outputs": [],
   "source": []
  }
 ],
 "metadata": {
  "kernelspec": {
   "display_name": "Python 3",
   "language": "python",
   "name": "python3"
  },
  "language_info": {
   "codemirror_mode": {
    "name": "ipython",
    "version": 3
   },
   "file_extension": ".py",
   "mimetype": "text/x-python",
   "name": "python",
   "nbconvert_exporter": "python",
   "pygments_lexer": "ipython3",
   "version": "3.6.5"
  }
 },
 "nbformat": 4,
 "nbformat_minor": 2
}
